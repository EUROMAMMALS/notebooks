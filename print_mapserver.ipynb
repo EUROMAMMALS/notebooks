{
 "cells": [
  {
   "cell_type": "code",
   "execution_count": null,
   "id": "familiar-killer",
   "metadata": {},
   "outputs": [],
   "source": [
    "import os\n",
    "import tempfile\n",
    "import mappyfile\n",
    "import copy\n",
    "import geopandas as gpd\n",
    "from sqlalchemy import create_engine\n",
    "import subprocess\n",
    "from PIL import Image, ImageOps"
   ]
  },
  {
   "cell_type": "markdown",
   "id": "tender-confusion",
   "metadata": {},
   "source": [
    "Read the configuration file to get parameters"
   ]
  },
  {
   "cell_type": "code",
   "execution_count": null,
   "id": "numerous-oxford",
   "metadata": {},
   "outputs": [],
   "source": [
    "from configparser import ConfigParser\n",
    "config = ConfigParser()\n",
    "config.read(\"setting.ini\")\n",
    "dbsett = config[\"eurodeer_db\"]\n",
    "eu_bbox = [-12, 35, 34, 65]"
   ]
  },
  {
   "cell_type": "code",
   "execution_count": null,
   "id": "improving-badge",
   "metadata": {},
   "outputs": [],
   "source": [
    "def create_mapfile(network, bounds, dbsett, dbname, table=\"main.research_group\", idcol=\"research_groups_id\", template=\"euromammals_template.map\"):\n",
    "    \"\"\"This function is creating the final mapfile using a template\"\"\"\n",
    "    mapfile = mappyfile.open(template)\n",
    "    mapfile['name'] = mapfile['name'].format(network.upper())\n",
    "    if bounds != None and template != \"world_template.map\":\n",
    "        mapfile[\"extent\"] = list(bounds)\n",
    "    layers = mapfile['layers']\n",
    "    removenumber = None\n",
    "    redlayer = None\n",
    "    x = 0\n",
    "    for layer in layers:\n",
    "        if layer[\"name\"] == \"Study areas\":\n",
    "            if network == \"eurodeer\":\n",
    "                redlayer = copy.deepcopy(layer)\n",
    "                layer[\"name\"] = \"EURODEER study areas\"\n",
    "                layer[\"classes\"][0][\"name\"] = \"EURODEER study areas\"\n",
    "            layer[\"classes\"][0][\"styles\"][0][\"symbol\"] = layer[\"classes\"][0][\"styles\"][0][\"symbol\"].format(network=network)\n",
    "            if network == 'eurolynx':\n",
    "                removenumber = x\n",
    "        if layer[\"name\"] == \"Reserch groups\":\n",
    "            table = \"main.research_groups\"\n",
    "            if network == \"euromammals\":\n",
    "                table = \"main.view_research_groups_euromammals_cam\"\n",
    "                idcol = \"id\"\n",
    "            if network == \"eurocam\":\n",
    "                idcol = \"research_group_code\"\n",
    "            strbound = ','.join(str(i) for i in bounds)\n",
    "            layer[\"data\"][0] = layer[\"data\"][0].format(bound=strbound, table=table, id=idcol)\n",
    "        if \"connectiontype\" in layer.keys():\n",
    "            if layer[\"connectiontype\"].upper() == 'POSTGIS':\n",
    "                layer[\"connection\"] = layer['connection'].format(host=dbsett[\"host\"], user=dbsett[\"user\"], password=dbsett[\"password\"], network=dbname)\n",
    "        x += 1\n",
    "    if network == \"eurolynx\" and removenumber is not None:\n",
    "        layers.pop(removenumber)\n",
    "        mapfile['layers'] = layers\n",
    "    if redlayer is not None:\n",
    "        redlayer[\"name\"] = \"EUREDDEER study areas\"\n",
    "        redlayer[\"classes\"][0][\"name\"] = \"EUREDDEER study areas\"\n",
    "        redlayer[\"classes\"][0][\"styles\"][0][\"symbol\"] = redlayer[\"classes\"][0][\"styles\"][0][\"symbol\"].format(network=\"eureddeer\")\n",
    "        redlayer[\"connection\"] = redlayer['connection'].format(host=dbsett[\"host\"], user=dbsett[\"user\"], password=dbsett[\"password\"], network=\"eureddeer_db\")\n",
    "        mapfile['layers'].insert(1, redlayer)\n",
    "    validation = mappyfile.validate(mapfile)\n",
    "    if len(validation) == 0:\n",
    "        return mapfile\n",
    "    else:\n",
    "        print(\"Errors during mapfile validation:\")\n",
    "        print(\"\\n\".join(validation))\n",
    "        return None"
   ]
  },
  {
   "cell_type": "code",
   "execution_count": null,
   "id": "rotary-geneva",
   "metadata": {},
   "outputs": [],
   "source": [
    "def bigger_bbox(bbox1, bbox2):\n",
    "    \"\"\"Return the right bigger bounding box\"\"\"\n",
    "    return (min(bbox1[0], bbox2[0]), min(bbox1[1], bbox2[1]), max(bbox1[2], bbox2[2]), max(bbox1[3], bbox2[3]))"
   ]
  },
  {
   "cell_type": "code",
   "execution_count": null,
   "id": "executive-machinery",
   "metadata": {},
   "outputs": [],
   "source": [
    "def grow_bbox(bbox1, value=2):\n",
    "    \"\"\"Grow the box of a some value\"\"\"\n",
    "    return (bbox1[0] - value, bbox1[1] - value, bbox1[2] + value, bbox1[3] + value)"
   ]
  },
  {
   "cell_type": "markdown",
   "id": "expensive-breakdown",
   "metadata": {},
   "source": [
    "Choose the network to use"
   ]
  },
  {
   "cell_type": "code",
   "execution_count": null,
   "id": "atmospheric-officer",
   "metadata": {},
   "outputs": [],
   "source": [
    "networks = [\"eurodeer\", \"euroboar\", \"eurowildcat\", \"euroibex\", \"eurolynx\", \"eurosmallmammals\", \"eurocam\", \"euromammals\"]"
   ]
  },
  {
   "cell_type": "code",
   "execution_count": null,
   "id": "right-teaching",
   "metadata": {},
   "outputs": [],
   "source": [
    "network = networks[7]\n",
    "if network == \"eurosmallmammals\":\n",
    "    noneugroups_df = []"
   ]
  },
  {
   "cell_type": "markdown",
   "id": "technical-subscription",
   "metadata": {},
   "source": [
    "Get the data for the selected network"
   ]
  },
  {
   "cell_type": "code",
   "execution_count": null,
   "id": "female-comparative",
   "metadata": {},
   "outputs": [],
   "source": [
    "dbname = \"{net}_db\".format(net=network)\n",
    "if network == \"euromammals\":\n",
    "    dbname = \"eurodeer_db\"\n",
    "db_connection_url = \"postgresql://{us}:{pas}@{host}:{port}/{db}\".format(us=dbsett['user'],\n",
    "                                                                      pas=dbsett['password'],\n",
    "                                                                      host=dbsett['host'],\n",
    "                                                                      port=dbsett['port'],\n",
    "                                                                      db=dbname\n",
    "                                                                     )\n",
    "con = create_engine(db_connection_url)\n",
    "if network != \"eurolynx\":\n",
    "    sid = \"study_areas_id\"\n",
    "    sname = \"study_name\"\n",
    "    geom = \"geom\"\n",
    "    if network == \"eurocam\":\n",
    "        sid = \"study_area_code\"\n",
    "        sname = \"study_area_name\"\n",
    "        geom = \"geom_centroid\"\n",
    "    query_areas = f\"select {sid} as id, {sname} as name, {geom} as geom from main.study_areas where geom is not null\"\n",
    "    areas_df = gpd.GeoDataFrame.from_postgis(query_areas, con)\n",
    "else:\n",
    "    areas_df = []\n",
    "rid = \"research_groups_id\"\n",
    "geom = \"geom\"\n",
    "if network == \"eurocam\":\n",
    "    rid = \"research_group_code\"\n",
    "bbox = \",\".join(str(n) for n in eu_bbox)\n",
    "table = \"main.research_groups\"\n",
    "if network == \"euromammals\":\n",
    "    table = \"main.view_research_groups_euromammals_cam\"\n",
    "    rid = \"id\"\n",
    "query_eugroups = f\"select {rid} as id, short_name as name, {geom} from {table} where geom @ ST_MakeEnvelope ({bbox}, 4326) order by st_y(geom)\"\n",
    "eugroups_df = gpd.GeoDataFrame.from_postgis(query_eugroups, con)\n",
    "query_noneugroups = f\"select {rid} as id, short_name as name, {geom} from {table} where not ST_Contains(ST_MakeEnvelope ({bbox}, 4326), geom) order by st_y(geom)\"\n",
    "noneugroups_df = gpd.GeoDataFrame.from_postgis(query_noneugroups, con)"
   ]
  },
  {
   "cell_type": "code",
   "execution_count": null,
   "id": "alpha-withdrawal",
   "metadata": {},
   "outputs": [],
   "source": [
    "print(query_eugroups)"
   ]
  },
  {
   "cell_type": "markdown",
   "id": "5e0a1c93",
   "metadata": {},
   "source": [
    "Select the maximum extend"
   ]
  },
  {
   "cell_type": "code",
   "execution_count": null,
   "id": "dietary-harvard",
   "metadata": {},
   "outputs": [],
   "source": [
    "areas_bounds = []\n",
    "if len(areas_df) > 0:\n",
    "    areas_bounds = grow_bbox(areas_df.geom.unary_union.bounds)\n",
    "groups_bounds = grow_bbox(eugroups_df.geom.unary_union.bounds)"
   ]
  },
  {
   "cell_type": "code",
   "execution_count": null,
   "id": "close-diamond",
   "metadata": {},
   "outputs": [],
   "source": [
    "if areas_bounds:\n",
    "    newbounds = bigger_bbox(areas_bounds, groups_bounds)\n",
    "else:\n",
    "    newbounds = groups_bounds\n",
    "print(newbounds)"
   ]
  },
  {
   "cell_type": "markdown",
   "id": "accurate-domain",
   "metadata": {},
   "source": [
    "Create the mapfile for the current network"
   ]
  },
  {
   "cell_type": "code",
   "execution_count": null,
   "id": "anticipated-zoning",
   "metadata": {},
   "outputs": [],
   "source": [
    "network_mapfile = create_mapfile(network, newbounds, dbsett, dbname)#, \"euromammals_template_areaname.map\")\n",
    "if network_mapfile:\n",
    "    mappyfile.save(network_mapfile, \"{}.map\".format(network))"
   ]
  },
  {
   "cell_type": "markdown",
   "id": "controversial-inventory",
   "metadata": {},
   "source": [
    "Call `shp2img` command to create the map"
   ]
  },
  {
   "cell_type": "code",
   "execution_count": null,
   "id": "quiet-poultry",
   "metadata": {},
   "outputs": [],
   "source": [
    "shp2img_call = \"shp2img -m {path}.map -o {path}.png\".format(path=network)\n",
    "print(shp2img_call)\n",
    "shp2img = subprocess.run(shp2img_call, shell=True, capture_output=True)\n",
    "print(shp2img.stderr)\n",
    "print(shp2img.stdout)"
   ]
  },
  {
   "cell_type": "markdown",
   "id": "pretty-photograph",
   "metadata": {},
   "source": [
    "Create the legend"
   ]
  },
  {
   "cell_type": "code",
   "execution_count": null,
   "id": "rapid-means",
   "metadata": {},
   "outputs": [],
   "source": [
    "legend_call = \"legend {path}.map {path}_legend.png\".format(path=network)\n",
    "legend = subprocess.run(legend_call, shell=True, capture_output=True)\n",
    "print(legend.stderr)\n",
    "print(legend.stdout)"
   ]
  },
  {
   "cell_type": "markdown",
   "id": "incomplete-clinton",
   "metadata": {},
   "source": [
    "Create the image joining map and legend, if there are institute outside Europe it calculate also the world map"
   ]
  },
  {
   "cell_type": "code",
   "execution_count": null,
   "id": "neutral-assessment",
   "metadata": {},
   "outputs": [],
   "source": [
    "mapimg = Image.open(\"{path}.png\".format(path=network))\n",
    "legimg = Image.open(\"{path}_legend.png\".format(path=network))\n",
    "legimg_white = ImageOps.expand(legimg, border=2, fill='white')\n",
    "legimg_border = ImageOps.expand(legimg_white, border=1)\n",
    "if network != \"eurocam\":\n",
    "    logo = Image.open(\"logos/{path}_logo.png\".format(path=network))\n",
    "    logo.load()\n",
    "    newlogo = Image.new(\"RGBA\", logo.size, (255, 255, 255, 255))\n",
    "    newlogo.paste(logo, mask=logo.split()[3])\n",
    "    mapimg.paste(newlogo, (20, 30))\n",
    "mapimg.paste(legimg_border, (20, 150))\n",
    "if network == 'eurodeer':\n",
    "    redlogo = Image.open(\"logos/eureddeer_logo.png\")\n",
    "    redlogo.load()\n",
    "    newredlogo = Image.new(\"RGB\", redlogo.size, (255, 255, 255))\n",
    "    newredlogo.paste(redlogo, mask=redlogo.split()[3])\n",
    "    mapimg.paste(newredlogo, (newlogo.width + 50, 15))\n",
    "if len(noneugroups_df) > 0:\n",
    "    world_mapfile = create_mapfile(network, newbounds, dbsett, dbname, template=\"world_template.map\")#, \"euromammals_template_areaname.map\")\n",
    "    if world_mapfile:\n",
    "        mappyfile.save(world_mapfile, \"world_{}.map\".format(network))\n",
    "        shp2img_worldcall = \"shp2img -m world_{path}.map -o world_{path}.png\".format(path=network)\n",
    "        shp2img_world = subprocess.run(shp2img_worldcall, shell=True, capture_output=True)\n",
    "        print(shp2img_world.stdout)\n",
    "        print(shp2img_world.stderr)\n",
    "        if not shp2img_world.stderr:\n",
    "            worldimg = Image.open(\"world_{path}.png\".format(path=network))\n",
    "            worldimg_border = ImageOps.expand(worldimg, border=1)\n",
    "            mapimg.paste(worldimg_border, (mapimg.width - worldimg_border.width - 10, 25))\n",
    "        \n",
    "mapimg.save(\"{path}_final.png\".format(path=network))"
   ]
  }
 ],
 "metadata": {
  "kernelspec": {
   "display_name": "venv",
   "language": "python",
   "name": "venv"
  },
  "language_info": {
   "codemirror_mode": {
    "name": "ipython",
    "version": 3
   },
   "file_extension": ".py",
   "mimetype": "text/x-python",
   "name": "python",
   "nbconvert_exporter": "python",
   "pygments_lexer": "ipython3",
   "version": "3.9.2"
  }
 },
 "nbformat": 4,
 "nbformat_minor": 5
}
